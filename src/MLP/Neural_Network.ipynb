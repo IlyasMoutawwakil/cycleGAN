{
 "cells": [
  {
   "cell_type": "code",
   "execution_count": 1,
   "metadata": {},
   "outputs": [],
   "source": [
    "from __future__ import absolute_import, division, print_function\n",
    "\n",
    "import tensorflow as tf\n",
    "import numpy as np\n",
    "from nn_utils import load_mnist"
   ]
  },
  {
   "cell_type": "code",
   "execution_count": 2,
   "metadata": {},
   "outputs": [],
   "source": [
    "#Dataset Directory\n",
    "DATA_PATH = 'C:/Users/utilisateur/Desktop/1A CS/Pôle Projet (CycleGAN)/Datasets/mnist/'\n",
    "LOGS_PATH = 'C:/Users/utilisateur/Desktop/1A CS/Pôle Projet (CycleGAN)/Logs/ann/'\n",
    "\n",
    "# MNIST dataset parameters.\n",
    "num_classes = 10 # total classes (0-9 digits).\n",
    "num_features = 784 # data features (img shape: 28*28).\n",
    "\n",
    "# Training parameters.\n",
    "learning_rate = 0.001\n",
    "training_steps = 3000\n",
    "batch_size = 256\n",
    "display_step = 100\n",
    "\n",
    "# Network parameters.\n",
    "n_hidden_1 = 32 # 1st layer number of neurons.\n",
    "n_hidden_2 = 32 # 2nd layer number of neurons."
   ]
  },
  {
   "cell_type": "code",
   "execution_count": 3,
   "metadata": {},
   "outputs": [],
   "source": [
    "# Use tf.data API to shuffle and batch data.\n",
    "(x_train, y_train), (x_test, y_test) = load_mnist(DATA_PATH, num_training=60000, num_test=10000, cnn=False, one_hot=False)\n",
    "train_data = tf.data.Dataset.from_tensor_slices((x_train, y_train))\n",
    "train_data = train_data.repeat().shuffle(5000).batch(batch_size).prefetch(1)"
   ]
  },
  {
   "cell_type": "code",
   "execution_count": 4,
   "metadata": {},
   "outputs": [],
   "source": [
    "# Store layers weight & bias\n",
    "# A random value generator to initialize weights.\n",
    "random_normal = tf.initializers.RandomNormal()\n",
    "\n",
    "weights = {\n",
    "    'h1': tf.Variable(random_normal([num_features, n_hidden_1])),\n",
    "    'h2': tf.Variable(random_normal([n_hidden_1, n_hidden_2])),\n",
    "    'out': tf.Variable(random_normal([n_hidden_2, num_classes]))\n",
    "}\n",
    "biases = {\n",
    "    'b1': tf.Variable(tf.zeros([n_hidden_1])),\n",
    "    'b2': tf.Variable(tf.zeros([n_hidden_2])),\n",
    "    'out': tf.Variable(tf.zeros([num_classes]))\n",
    "}"
   ]
  },
  {
   "cell_type": "code",
   "execution_count": 5,
   "metadata": {},
   "outputs": [],
   "source": [
    "# Create model.\n",
    "def neural_net(x):\n",
    "    # Hidden fully connected layer with 128 neurons.\n",
    "    layer_1 = tf.add(tf.matmul(x, weights['h1']), biases['b1'])\n",
    "    # Apply sigmoid to layer_1 output for non-linearity.\n",
    "    layer_1 = tf.nn.sigmoid(layer_1)\n",
    "    \n",
    "    # Hidden fully connected layer with 256 neurons.\n",
    "    layer_2 = tf.add(tf.matmul(layer_1, weights['h2']), biases['b2'])\n",
    "    # Apply sigmoid to layer_2 output for non-linearity.\n",
    "    layer_2 = tf.nn.sigmoid(layer_2)\n",
    "    \n",
    "    # Output fully connected layer with a neuron for each class.\n",
    "    out_layer = tf.matmul(layer_2, weights['out']) + biases['out']\n",
    "    # Apply softmax to normalize the logits to a probability distribution.\n",
    "    return tf.nn.softmax(out_layer)"
   ]
  },
  {
   "cell_type": "code",
   "execution_count": 6,
   "metadata": {},
   "outputs": [],
   "source": [
    "# Cross-Entropy loss function.\n",
    "def cross_entropy(y_pred, y_true):\n",
    "    # Encode label to a one hot vector.\n",
    "    y_true = tf.one_hot(y_true, depth=num_classes)\n",
    "    # Clip prediction values to avoid log(0) error.\n",
    "    y_pred = tf.clip_by_value(y_pred, 1e-9, 1.)\n",
    "    # Compute cross-entropy.\n",
    "    return tf.reduce_mean(-tf.reduce_sum(y_true * tf.math.log(y_pred)))\n",
    "\n",
    "# Accuracy metric.\n",
    "def accuracy(y_pred, y_true):\n",
    "    # Predicted class is the index of highest score in prediction vector (i.e. argmax).\n",
    "    correct_prediction = tf.equal(tf.argmax(y_pred, 1), tf.cast(y_true, tf.int64))\n",
    "    return tf.reduce_mean(tf.cast(correct_prediction, tf.float32), axis=-1)\n",
    "\n",
    "# Stochastic gradient descent optimizer.\n",
    "optimizer = tf.optimizers.Adam(learning_rate)"
   ]
  },
  {
   "cell_type": "code",
   "execution_count": 7,
   "metadata": {},
   "outputs": [],
   "source": [
    "# Optimization process. \n",
    "def run_optimization(x, y):\n",
    "    # Wrap computation inside a GradientTape for automatic differentiation.\n",
    "    with tf.GradientTape() as g:\n",
    "        pred = neural_net(x)\n",
    "        loss = cross_entropy(pred, y)\n",
    "        \n",
    "    # Variables to update, i.e. trainable variables.\n",
    "    trainable_variables = list(weights.values()) + list(biases.values())\n",
    "\n",
    "    # Compute gradients.\n",
    "    gradients = g.gradient(loss, trainable_variables)\n",
    "    \n",
    "    # Update W and b following gradients.\n",
    "    optimizer.apply_gradients(zip(gradients, trainable_variables))"
   ]
  },
  {
   "cell_type": "code",
   "execution_count": null,
   "metadata": {},
   "outputs": [],
   "source": [
    "current_time = datetime.datetime.now().strftime(\"%Y%m%d-%H%M%S\")\n",
    "train_log_dir = LOGS_PATH + current_time + '/train'\n",
    "test_log_dir = LOGS_PATH + current_time + '/test'\n",
    "train_summary_writer = tf.summary.create_file_writer(train_log_dir)\n",
    "test_summary_writer = tf.summary.create_file_writer(test_log_dir)"
   ]
  },
  {
   "cell_type": "code",
   "execution_count": 8,
   "metadata": {},
   "outputs": [
    {
     "name": "stdout",
     "output_type": "stream",
     "text": [
      "step: 100, loss: 585.238037, accuracy: 0.148438\n",
      "step: 200, loss: 585.683716, accuracy: 0.132812\n",
      "step: 300, loss: 582.450378, accuracy: 0.117188\n",
      "step: 400, loss: 567.200867, accuracy: 0.378906\n",
      "step: 500, loss: 475.850098, accuracy: 0.406250\n",
      "step: 600, loss: 394.423157, accuracy: 0.441406\n",
      "step: 700, loss: 305.779388, accuracy: 0.667969\n",
      "step: 800, loss: 226.784714, accuracy: 0.769531\n",
      "step: 900, loss: 204.757278, accuracy: 0.750000\n",
      "step: 1000, loss: 194.042358, accuracy: 0.800781\n",
      "step: 1100, loss: 162.158905, accuracy: 0.839844\n",
      "step: 1200, loss: 162.625443, accuracy: 0.800781\n",
      "step: 1300, loss: 149.517029, accuracy: 0.843750\n",
      "step: 1400, loss: 149.528580, accuracy: 0.875000\n",
      "step: 1500, loss: 120.821320, accuracy: 0.875000\n",
      "step: 1600, loss: 106.283676, accuracy: 0.882812\n",
      "step: 1700, loss: 103.941666, accuracy: 0.894531\n",
      "step: 1800, loss: 97.934265, accuracy: 0.890625\n",
      "step: 1900, loss: 74.232811, accuracy: 0.914062\n",
      "step: 2000, loss: 113.199615, accuracy: 0.878906\n",
      "step: 2100, loss: 68.139023, accuracy: 0.933594\n",
      "step: 2200, loss: 103.103485, accuracy: 0.902344\n",
      "step: 2300, loss: 77.719543, accuracy: 0.914062\n",
      "step: 2400, loss: 67.124855, accuracy: 0.929688\n",
      "step: 2500, loss: 56.486877, accuracy: 0.941406\n",
      "step: 2600, loss: 79.406097, accuracy: 0.914062\n",
      "step: 2700, loss: 60.455208, accuracy: 0.929688\n",
      "step: 2800, loss: 70.444702, accuracy: 0.933594\n",
      "step: 2900, loss: 52.046196, accuracy: 0.953125\n",
      "step: 3000, loss: 60.292007, accuracy: 0.933594\n"
     ]
    }
   ],
   "source": [
    "# Run training for the given number of steps.\n",
    "for step, (batch_x, batch_y) in enumerate(train_data.take(training_steps), 1):\n",
    "    # Run the optimization to update W and b values.\n",
    "    run_optimization(batch_x, batch_y)\n",
    "    \n",
    "    if step % display_step == 0:\n",
    "        test_pred = conv_net(x_test)\n",
    "        test_loss = cross_entropy(test_pred, y_test)\n",
    "        test_acc = accuracy(test_pred, y_test)\n",
    "\n",
    "        with test_summary_writer.as_default():\n",
    "            tf.summary.scalar('test_loss', test_loss, step=step)\n",
    "            tf.summary.scalar('test_accuracy', test_acc, step=step)\n",
    "        print(\"step: %i, loss: %f, accuracy: %f\" % (step, loss, acc))"
   ]
  },
  {
   "cell_type": "code",
   "execution_count": 9,
   "metadata": {},
   "outputs": [
    {
     "name": "stdout",
     "output_type": "stream",
     "text": [
      "Test Accuracy: 0.926300\n"
     ]
    }
   ],
   "source": [
    "# Test model on validation set.\n",
    "pred = neural_net(x_test)\n",
    "print(\"Test Accuracy: %f\" % accuracy(pred, y_test))"
   ]
  },
  {
   "cell_type": "code",
   "execution_count": null,
   "metadata": {},
   "outputs": [],
   "source": []
  }
 ],
 "metadata": {
  "kernelspec": {
   "display_name": "Python 3",
   "language": "python",
   "name": "python3"
  },
  "language_info": {
   "codemirror_mode": {
    "name": "ipython",
    "version": 3
   },
   "file_extension": ".py",
   "mimetype": "text/x-python",
   "name": "python",
   "nbconvert_exporter": "python",
   "pygments_lexer": "ipython3",
   "version": "3.7.3"
  }
 },
 "nbformat": 4,
 "nbformat_minor": 2
}
